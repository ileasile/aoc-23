{
 "cells": [
  {
   "cell_type": "code",
   "execution_count": 2,
   "outputs": [
    {
     "name": "stdout",
     "output_type": "stream",
     "text": [
      "Day 1, part 1: 53386\r\n"
     ]
    }
   ],
   "source": [
    "solveInt(1, 1) {\n",
    "    readLines().sumOf {\n",
    "        var firstDigit: Int = -1\n",
    "        var lastDigit: Int = -1\n",
    "\n",
    "        for (c in it) {\n",
    "            if (c.isDigit()) {\n",
    "                if (firstDigit == -1) firstDigit = c.digitToInt()\n",
    "                lastDigit = c.digitToInt()\n",
    "            }\n",
    "        }\n",
    "\n",
    "        firstDigit * 10 + lastDigit\n",
    "    }\n",
    "}"
   ],
   "metadata": {
    "collapsed": false,
    "ExecuteTime": {
     "end_time": "2023-12-02T19:02:58.661070400Z",
     "start_time": "2023-12-02T19:02:57.248370400Z"
    }
   }
  },
  {
   "cell_type": "code",
   "execution_count": 8,
   "outputs": [
    {
     "name": "stdout",
     "output_type": "stream",
     "text": [
      "Day 1, part 2: 53312\r\n"
     ]
    }
   ],
   "source": [
    "val digitRegex = Regex(\"(\\\\d|(one)|(two)|(three)|(four)|(five)|(six)|(seven)|(eight)|(nine))\")\n",
    "val digitMap = mapOf(\n",
    "    \"one\" to 1,\n",
    "    \"two\" to 2,\n",
    "    \"three\" to 3,\n",
    "    \"four\" to 4,\n",
    "    \"five\" to 5,\n",
    "    \"six\" to 6,\n",
    "    \"seven\" to 7,\n",
    "    \"eight\" to 8,\n",
    "    \"nine\" to 9,\n",
    ")\n",
    "\n",
    "solveInt(1, 2) {\n",
    "    readLines().sumOf { line ->\n",
    "        var firstDigit: Int = -1\n",
    "        var lastDigit: Int = -1\n",
    "\n",
    "        var cur = 0\n",
    "        \n",
    "        while (cur < line.length) {\n",
    "            val match = digitRegex.find(line, cur)\n",
    "            if (match == null) {\n",
    "                ++cur\n",
    "                continue\n",
    "            }\n",
    "            \n",
    "            val target = match.groups[1] ?: continue\n",
    "            \n",
    "            ++cur\n",
    "            \n",
    "            val digit = digitMap[target.value] ?: target.value.toInt()\n",
    "            if (firstDigit == -1) firstDigit = digit\n",
    "            lastDigit = digit\n",
    "        }\n",
    "        val r = firstDigit * 10 + lastDigit\n",
    "\n",
    "        //println(\"$r: $line\")\n",
    "        \n",
    "        r\n",
    "    }\n",
    "}"
   ],
   "metadata": {
    "collapsed": false,
    "ExecuteTime": {
     "end_time": "2023-12-02T19:33:05.981080500Z",
     "start_time": "2023-12-02T19:33:05.401133400Z"
    }
   }
  },
  {
   "cell_type": "code",
   "execution_count": 10,
   "outputs": [
    {
     "name": "stdout",
     "output_type": "stream",
     "text": [
      "Day 2, part 1: 2317\r\n"
     ]
    }
   ],
   "source": [
    "class D2_Round(val green: Int, val red: Int, val blue: Int)\n",
    "\n",
    "solveInt(2, 1) {\n",
    "    readLines().sumOf { line ->\n",
    "        val (preamble, description) = line.split(\": \")\n",
    "        val (_, gameIdStr) = preamble.split(\" \")\n",
    "        val gameId = gameIdStr.toInt()\n",
    "        \n",
    "        val rounds = description.split(\"; \").map {roundStr ->\n",
    "            val parts = roundStr.split(\", \").associate {\n",
    "                val (v, k) = it.split(\" \")\n",
    "                k to v.toInt()\n",
    "            }\n",
    "            \n",
    "            D2_Round(parts[\"green\"] ?: 0, parts[\"red\"] ?: 0, parts[\"blue\"] ?: 0)\n",
    "        }\n",
    "        \n",
    "        if (rounds.all { it.red <= 12 && it.green <= 13 && it.blue <=14 }) gameId\n",
    "        else 0\n",
    "    }\n",
    "}"
   ],
   "metadata": {
    "collapsed": false,
    "ExecuteTime": {
     "end_time": "2023-12-02T19:50:28.033022Z",
     "start_time": "2023-12-02T19:50:27.015569700Z"
    }
   }
  },
  {
   "cell_type": "code",
   "execution_count": 11,
   "outputs": [
    {
     "name": "stdout",
     "output_type": "stream",
     "text": [
      "Day 2, part 1: 74804\r\n"
     ]
    }
   ],
   "source": [
    "solveInt(2, 1) {\n",
    "    readLines().sumOf { line ->\n",
    "        val (preamble, description) = line.split(\": \")\n",
    "        val (_, gameIdStr) = preamble.split(\" \")\n",
    "        val gameId = gameIdStr.toInt()\n",
    "        \n",
    "        val rounds = description.split(\"; \").map {roundStr ->\n",
    "            val parts = roundStr.split(\", \").associate {\n",
    "                val (v, k) = it.split(\" \")\n",
    "                k to v.toInt()\n",
    "            }\n",
    "            \n",
    "            D2_Round(parts[\"green\"] ?: 0, parts[\"red\"] ?: 0, parts[\"blue\"] ?: 0)\n",
    "        }\n",
    "        \n",
    "        val powerRound = D2_Round(\n",
    "            rounds.maxOf { it.green },\n",
    "            rounds.maxOf { it.red },\n",
    "            rounds.maxOf { it.blue }\n",
    "        )\n",
    "        \n",
    "        with(powerRound) { green * red * blue }\n",
    "    }\n",
    "}"
   ],
   "metadata": {
    "collapsed": false,
    "ExecuteTime": {
     "end_time": "2023-12-02T19:55:41.678809200Z",
     "start_time": "2023-12-02T19:55:40.324232300Z"
    }
   }
  },
  {
   "cell_type": "code",
   "execution_count": 1,
   "outputs": [
    {
     "name": "stdout",
     "output_type": "stream",
     "text": [
      "Day 3, part 1: 525181\r\n"
     ]
    }
   ],
   "source": [
    "solveInt(3, 1) {\n",
    "    class NumRange(val num: Int, val line: Int, val rows: IntRange)\n",
    "    val chars = mutableMapOf<Pair<Int, Int>, Char>()\n",
    "    val nums = mutableListOf<NumRange>()\n",
    "    \n",
    "    readLines().forEachIndexed { i, line ->\n",
    "        var curNum = 0\n",
    "        var curNumStart = -1\n",
    "        \n",
    "        line.forEachIndexed { j, c ->\n",
    "            when {\n",
    "                c.isDigit() -> {\n",
    "                    val d = c.digitToInt()\n",
    "                    curNum = curNum * 10 + d\n",
    "                    if (curNumStart == -1) curNumStart = j\n",
    "                }\n",
    "                else -> {\n",
    "                    if (curNum > 0) {\n",
    "                        nums.add(NumRange(curNum, i, curNumStart..(j - 1)))\n",
    "                        curNum = 0\n",
    "                        curNumStart = -1\n",
    "                    }\n",
    "                    if (c != '.') chars[i to j] = c\n",
    "                }\n",
    "            }\n",
    "        }\n",
    "        \n",
    "        if (curNum > 0) {\n",
    "            nums.add(NumRange(curNum, i, curNumStart..line.lastIndex))\n",
    "        }\n",
    "    }\n",
    "    \n",
    "    nums.filter { numRange ->\n",
    "        sequence<Pair<Int, Int>> {\n",
    "            val myRange = (numRange.rows.first - 1)..(numRange.rows.last + 1)\n",
    "            \n",
    "            for (j in myRange) {\n",
    "                yield((numRange.line - 1) to j)\n",
    "                yield((numRange.line + 1) to j)\n",
    "            }\n",
    "            yield(numRange.line to myRange.first)\n",
    "            yield(numRange.line to myRange.last)\n",
    "            \n",
    "        }.any { chars.containsKey(it) }\n",
    "    }.sumOf { it.num }\n",
    "}"
   ],
   "metadata": {
    "collapsed": false,
    "ExecuteTime": {
     "end_time": "2023-12-03T14:49:44.835512Z",
     "start_time": "2023-12-03T14:49:42.466523Z"
    }
   }
  },
  {
   "cell_type": "code",
   "execution_count": 3,
   "outputs": [
    {
     "name": "stdout",
     "output_type": "stream",
     "text": [
      "Day 3, part 2: 84289137\r\n"
     ]
    }
   ],
   "source": [
    "solveInt(3, 2) {\n",
    "    class NumRange(val num: Int, val line: Int, val rows: IntRange)\n",
    "    val chars = mutableMapOf<Pair<Int, Int>, Char>()\n",
    "    val nums = mutableMapOf<Pair<Int, Int>, NumRange>()\n",
    "    \n",
    "    readLines().forEachIndexed { i, line ->\n",
    "        var curNum = 0\n",
    "        var curNumStart = -1\n",
    "        \n",
    "        fun addNum(from: Int, to: Int) {\n",
    "            val r = from..to\n",
    "            val n = NumRange(curNum, i, r)\n",
    "            for (j in r) nums[i to j] = n \n",
    "        }\n",
    "        \n",
    "        line.forEachIndexed { j, c ->\n",
    "            when {\n",
    "                c.isDigit() -> {\n",
    "                    val d = c.digitToInt()\n",
    "                    curNum = curNum * 10 + d\n",
    "                    if (curNumStart == -1) curNumStart = j\n",
    "                }\n",
    "                else -> {\n",
    "                    if (curNum > 0) {\n",
    "                        addNum(curNumStart, (j - 1))\n",
    "                        curNum = 0\n",
    "                        curNumStart = -1\n",
    "                    }\n",
    "                    if (c != '.') chars[i to j] = c\n",
    "                }\n",
    "            }\n",
    "        }\n",
    "        \n",
    "        if (curNum > 0) {\n",
    "            addNum(curNumStart, line.lastIndex)\n",
    "        }\n",
    "    }\n",
    "    \n",
    "    chars.map { (coord, c) ->\n",
    "        if (c == '*') {\n",
    "            val allP = sequence<Pair<Int, Int>> {\n",
    "                for (i in coord.first - 1 .. coord.first + 1) {\n",
    "                    for (j in coord.second - 1 .. coord.second + 1) {\n",
    "                        yield(i to j)\n",
    "                    }\n",
    "                }\n",
    "            }.mapNotNull { nums[it] }.toSet()\n",
    "            \n",
    "            if (allP.size == 2) {\n",
    "                allP.map { it.num }.reduce { acc, n -> acc * n }\n",
    "            } else {\n",
    "                0\n",
    "            }\n",
    "        } else {\n",
    "            0\n",
    "        }\n",
    "    }.sum()\n",
    "}"
   ],
   "metadata": {
    "collapsed": false,
    "ExecuteTime": {
     "end_time": "2023-12-03T15:10:49.271349900Z",
     "start_time": "2023-12-03T15:10:48.273028Z"
    }
   }
  },
  {
   "cell_type": "code",
   "execution_count": null,
   "outputs": [],
   "source": [],
   "metadata": {
    "collapsed": false
   }
  }
 ],
 "metadata": {
  "kernelspec": {
   "display_name": "Kotlin",
   "language": "kotlin",
   "name": "kotlin"
  },
  "language_info": {
   "name": "kotlin",
   "version": "1.9.0",
   "mimetype": "text/x-kotlin",
   "file_extension": ".kt",
   "pygments_lexer": "kotlin",
   "codemirror_mode": "text/x-kotlin",
   "nbconvert_exporter": ""
  },
  "ktnbPluginMetadata": {
   "projectDependencies": [
    "AOC-23.main"
   ],
   "projectLibraries": [
    "Gradle: ch.qos.logback:logback-classic:1.3.6",
    "Gradle: ch.qos.logback:logback-core:1.3.6",
    "Gradle: com.beust:klaxon:5.5",
    "Gradle: com.fasterxml.jackson.core:jackson-annotations:2.14.2",
    "Gradle: com.fasterxml.jackson.core:jackson-core:2.14.2",
    "Gradle: com.fasterxml.jackson.core:jackson-databind:2.14.2",
    "Gradle: com.fasterxml.jackson.dataformat:jackson-dataformat-yaml:2.14.2",
    "Gradle: com.fasterxml.jackson.datatype:jackson-datatype-jsr310:2.14.2",
    "Gradle: com.github.ajalt:clikt:2.8.0",
    "Gradle: com.github.ben-manes.caffeine:caffeine:2.9.3",
    "Gradle: com.github.java-json-tools:btf:1.3",
    "Gradle: com.github.java-json-tools:jackson-coreutils-equivalence:1.0",
    "Gradle: com.github.java-json-tools:jackson-coreutils:2.0",
    "Gradle: com.github.java-json-tools:json-patch:1.13",
    "Gradle: com.github.java-json-tools:json-schema-core:1.2.14",
    "Gradle: com.github.java-json-tools:json-schema-validator:2.2.14",
    "Gradle: com.github.java-json-tools:msg-simple:1.2",
    "Gradle: com.github.java-json-tools:uri-template:0.10",
    "Gradle: com.github.kittinunf.fuel:fuel:2.3.1",
    "Gradle: com.github.kittinunf.result:result:3.1.0",
    "Gradle: com.github.virtuald:curvesapi:1.07",
    "Gradle: com.github.waffle:waffle-jna:3.2.0",
    "Gradle: com.google.code.findbugs:jsr305:3.0.2",
    "Gradle: com.google.errorprone:error_prone_annotations:2.11.0",
    "Gradle: com.google.flatbuffers:flatbuffers-java:1.12.0",
    "Gradle: com.google.guava:failureaccess:1.0.1",
    "Gradle: com.google.guava:guava:31.1-android",
    "Gradle: com.google.guava:listenablefuture:9999.0-empty-to-avoid-conflict-with-guava",
    "Gradle: com.google.j2objc:j2objc-annotations:1.3",
    "Gradle: com.googlecode.libphonenumber:libphonenumber:8.11.1",
    "Gradle: com.squareup:kotlinpoet:1.12.0",
    "Gradle: com.zaxxer:SparseBitSet:1.2",
    "Gradle: commons-codec:commons-codec:1.15",
    "Gradle: commons-io:commons-io:2.11.0",
    "Gradle: commons-logging:commons-logging:1.2",
    "Gradle: eu.neilalexander:jnacl:1.0.0",
    "Gradle: io.github.java-diff-utils:java-diff-utils:4.12",
    "Gradle: io.github.oshai:kotlin-logging-jvm:5.0.1",
    "Gradle: io.github.xn32:json5k-jvm:0.3.0",
    "Gradle: io.kotest:kotest-assertions-api-jvm:5.5.4",
    "Gradle: io.kotest:kotest-assertions-core-jvm:5.5.4",
    "Gradle: io.kotest:kotest-assertions-shared-jvm:5.5.4",
    "Gradle: io.kotest:kotest-common-jvm:5.5.4",
    "Gradle: io.netty:netty-common:4.1.82.Final",
    "Gradle: io.swagger.core.v3:swagger-annotations:2.2.9",
    "Gradle: io.swagger.core.v3:swagger-core:2.2.9",
    "Gradle: io.swagger.core.v3:swagger-models:2.2.9",
    "Gradle: io.swagger.parser.v3:swagger-parser-core:2.1.13",
    "Gradle: io.swagger.parser.v3:swagger-parser-v2-converter:2.1.13",
    "Gradle: io.swagger.parser.v3:swagger-parser-v3:2.1.13",
    "Gradle: io.swagger.parser.v3:swagger-parser:2.1.13",
    "Gradle: io.swagger:swagger-annotations:1.6.10",
    "Gradle: io.swagger:swagger-compat-spec-parser:1.0.65",
    "Gradle: io.swagger:swagger-core:1.6.10",
    "Gradle: io.swagger:swagger-models:1.6.10",
    "Gradle: io.swagger:swagger-parser:1.0.65",
    "Gradle: jakarta.activation:jakarta.activation-api:1.2.2",
    "Gradle: jakarta.xml.bind:jakarta.xml.bind-api:2.3.3",
    "Gradle: javax.validation:validation-api:1.1.0.Final",
    "Gradle: joda-time:joda-time:2.10.5",
    "Gradle: net.java.dev.jna:jna-platform:5.12.1",
    "Gradle: net.java.dev.jna:jna:5.12.1",
    "Gradle: net.sf.jopt-simple:jopt-simple:5.0.4",
    "Gradle: org.apache.arrow:arrow-format:11.0.0",
    "Gradle: org.apache.arrow:arrow-memory-core:11.0.0",
    "Gradle: org.apache.arrow:arrow-memory-unsafe:11.0.0",
    "Gradle: org.apache.arrow:arrow-vector:11.0.0",
    "Gradle: org.apache.commons:commons-collections4:4.4",
    "Gradle: org.apache.commons:commons-compress:1.21",
    "Gradle: org.apache.commons:commons-csv:1.8",
    "Gradle: org.apache.commons:commons-lang3:3.12.0",
    "Gradle: org.apache.commons:commons-math3:3.6.1",
    "Gradle: org.apache.httpcomponents.client5:httpclient5:5.2.1",
    "Gradle: org.apache.httpcomponents.core5:httpcore5-h2:5.2",
    "Gradle: org.apache.httpcomponents.core5:httpcore5:5.2",
    "Gradle: org.apache.httpcomponents:httpclient:4.5.14",
    "Gradle: org.apache.httpcomponents:httpcore:4.4.16",
    "Gradle: org.apache.logging.log4j:log4j-api:2.17.2",
    "Gradle: org.apache.poi:poi-ooxml-lite:5.2.2",
    "Gradle: org.apache.poi:poi-ooxml:5.2.2",
    "Gradle: org.apache.poi:poi:5.2.2",
    "Gradle: org.apache.xmlbeans:xmlbeans:5.0.3",
    "Gradle: org.apiguardian:apiguardian-api:1.1.0",
    "Gradle: org.checkerframework:checker-qual:3.12.0",
    "Gradle: org.http4k:http4k-client-apache:4.34.3.0",
    "Gradle: org.http4k:http4k-core:4.34.3.0",
    "Gradle: org.jetbrains.intellij.deps:trove4j:1.0.20200330",
    "Gradle: org.jetbrains.kotlin:kotlin-compiler-embeddable:1.9.0",
    "Gradle: org.jetbrains.kotlin:kotlin-daemon-embeddable:1.9.0",
    "Gradle: org.jetbrains.kotlin:kotlin-reflect:1.9.0",
    "Gradle: org.jetbrains.kotlin:kotlin-script-runtime:1.9.0",
    "Gradle: org.jetbrains.kotlin:kotlin-scripting-common:2.0.0-Beta1",
    "Gradle: org.jetbrains.kotlin:kotlin-scripting-compiler-embeddable:1.9.0",
    "Gradle: org.jetbrains.kotlin:kotlin-scripting-compiler-impl-embeddable:1.9.0",
    "Gradle: org.jetbrains.kotlin:kotlin-scripting-dependencies-maven-all:2.0.0-Beta1",
    "Gradle: org.jetbrains.kotlin:kotlin-scripting-dependencies:2.0.0-Beta1",
    "Gradle: org.jetbrains.kotlin:kotlin-scripting-ide-services:1.9.0",
    "Gradle: org.jetbrains.kotlin:kotlin-scripting-jvm:1.9.0",
    "Gradle: org.jetbrains.kotlin:kotlin-serialization-compiler-plugin-embeddable:1.9.0",
    "Gradle: org.jetbrains.kotlin:kotlin-stdlib-jdk7:1.9.0",
    "Gradle: org.jetbrains.kotlin:kotlin-stdlib-jdk8:1.9.0",
    "Gradle: org.jetbrains.kotlin:kotlin-stdlib:1.9.20",
    "Gradle: org.jetbrains.kotlin:kotlin-stdlib:2.0.0-Beta1",
    "Gradle: org.jetbrains.kotlin:kotlin-test-junit5:1.9.20",
    "Gradle: org.jetbrains.kotlin:kotlin-test:1.9.20",
    "Gradle: org.jetbrains.kotlinx:dataframe-arrow:0.12.0",
    "Gradle: org.jetbrains.kotlinx:dataframe-core:0.12.0",
    "Gradle: org.jetbrains.kotlinx:dataframe-excel:0.12.0",
    "Gradle: org.jetbrains.kotlinx:dataframe-jdbc:0.12.0",
    "Gradle: org.jetbrains.kotlinx:dataframe-openapi:0.12.0",
    "Gradle: org.jetbrains.kotlinx:dataframe:0.12.0",
    "Gradle: org.jetbrains.kotlinx:jupyter-notebooks-parser:0.1.0-dev-1",
    "Gradle: org.jetbrains.kotlinx:kotlin-jupyter-api:0.12.0-96",
    "Gradle: org.jetbrains.kotlinx:kotlin-jupyter-common-dependencies:0.12.0-96",
    "Gradle: org.jetbrains.kotlinx:kotlin-jupyter-kernel:0.12.0-96",
    "Gradle: org.jetbrains.kotlinx:kotlin-jupyter-lib:0.12.0-96",
    "Gradle: org.jetbrains.kotlinx:kotlin-jupyter-shared-compiler:0.12.0-96",
    "Gradle: org.jetbrains.kotlinx:kotlin-jupyter-test-kit:0.12.0-96",
    "Gradle: org.jetbrains.kotlinx:kotlinx-coroutines-core-jvm:1.6.4",
    "Gradle: org.jetbrains.kotlinx:kotlinx-coroutines-jdk8:1.6.4",
    "Gradle: org.jetbrains.kotlinx:kotlinx-datetime-jvm:0.4.0",
    "Gradle: org.jetbrains.kotlinx:kotlinx-serialization-core-jvm:1.4.1",
    "Gradle: org.jetbrains.kotlinx:kotlinx-serialization-core-jvm:1.5.0",
    "Gradle: org.jetbrains.kotlinx:kotlinx-serialization-json-jvm:1.4.1",
    "Gradle: org.jetbrains.kotlinx:kotlinx-serialization-json-jvm:1.5.0",
    "Gradle: org.jetbrains:annotations:13.0",
    "Gradle: org.jetbrains:annotations:23.1.0",
    "Gradle: org.junit.platform:junit-platform-engine:1.6.3",
    "Gradle: org.mariadb.jdbc:mariadb-java-client:3.1.4",
    "Gradle: org.mozilla:rhino:1.7.7.2",
    "Gradle: org.opentest4j:opentest4j:1.2.0",
    "Gradle: org.slf4j:jcl-over-slf4j:1.7.36",
    "Gradle: org.slf4j:slf4j-api:1.7.36",
    "Gradle: org.slf4j:slf4j-api:2.0.5",
    "Gradle: org.yaml:snakeyaml:2.0",
    "Gradle: org.zeromq:jeromq:0.5.3"
   ]
  }
 },
 "nbformat": 4,
 "nbformat_minor": 0
}
